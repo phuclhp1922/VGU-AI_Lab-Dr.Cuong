{
  "nbformat": 4,
  "nbformat_minor": 0,
  "metadata": {
    "colab": {
      "provenance": [],
      "authorship_tag": "ABX9TyO5T5kUas+iuTVbvQPBP2vf",
      "include_colab_link": true
    },
    "kernelspec": {
      "name": "python3",
      "display_name": "Python 3"
    },
    "language_info": {
      "name": "python"
    }
  },
  "cells": [
    {
      "cell_type": "markdown",
      "metadata": {
        "id": "view-in-github",
        "colab_type": "text"
      },
      "source": [
        "<a href=\"https://colab.research.google.com/github/phuclhp1922/VGU-AI_Lab-Dr.Cuong/blob/main/Twitter_Sentiment_Analysis.ipynb\" target=\"_parent\"><img src=\"https://colab.research.google.com/assets/colab-badge.svg\" alt=\"Open In Colab\"/></a>"
      ]
    },
    {
      "cell_type": "code",
      "source": [
        "# Allow Google Drive access\n",
        "from google.colab import drive\n",
        "drive.mount('/content/drive')"
      ],
      "metadata": {
        "colab": {
          "base_uri": "https://localhost:8080/"
        },
        "id": "48XJNfcKEdyv",
        "outputId": "9005dc40-7a0d-4ec5-89dd-d44a00e1e728"
      },
      "execution_count": null,
      "outputs": [
        {
          "output_type": "stream",
          "name": "stdout",
          "text": [
            "Mounted at /content/drive\n"
          ]
        }
      ]
    },
    {
      "cell_type": "code",
      "execution_count": null,
      "metadata": {
        "id": "SX94CGXjDQSg"
      },
      "outputs": [],
      "source": [
        "# Import library\n",
        "import pandas as pd\n",
        "import numpy as np\n",
        "import re\n",
        "import nltk\n",
        "import matplotlib.pyplot as plt\n",
        "\n",
        "from sklearn.model_selection import train_test_split\n",
        "from sklearn.preprocessing import StandardScaler\n",
        "from nltk.tokenize import TweetTokenizer\n",
        "from collections import defaultdict"
      ]
    },
    {
      "cell_type": "code",
      "source": [
        "# Read dataset\n",
        "dataset_path = \"/content/drive/MyDrive/Colab Notebooks/Deep Learning/Basic/AI VIET NAM/Logistic Regression/sentiment_analysis.csv\"\n",
        "df = pd.read_csv (dataset_path, index_col=\"id\")"
      ],
      "metadata": {
        "id": "vP-idhs3HHxs"
      },
      "execution_count": null,
      "outputs": []
    },
    {
      "cell_type": "code",
      "source": [
        "# Remove uesless stuff\n",
        "def text_normalize(text):\n",
        "  text = re.sub(r'^RT [\\s]+', '', text)\n",
        "  text = re.sub(r'https ?:\\/\\/.*[\\ r\\n]*', '', text)\n",
        "  text = re.sub(r'#', '', text)\n",
        "  text = re.sub(r'[^\\w\\s]', '', text)\n",
        "\n",
        "  tokenizer = TweetTokenizer(preserve_case=False, strip_handles=True, reduce_len=True)\n",
        "\n",
        "  text_tokens = tokenizer.tokenize(text)\n",
        "\n",
        "  return text_tokens"
      ],
      "metadata": {
        "id": "OL8eCL7RHXmw"
      },
      "execution_count": null,
      "outputs": []
    },
    {
      "cell_type": "code",
      "source": [
        "def get_freqs(df):\n",
        "  freqs = defaultdict(lambda: 0)\n",
        "  for idx, row in df.iterrows():\n",
        "    tweet = row['tweet']\n",
        "    label = row['label']\n",
        "    tokens = text_normalize(tweet)\n",
        "    for token in tokens:\n",
        "      pair = (token, label)\n",
        "      freqs[pair] += 1\n",
        "\n",
        "  return freqs"
      ],
      "metadata": {
        "id": "uzBmyE-nUspz"
      },
      "execution_count": null,
      "outputs": []
    },
    {
      "cell_type": "code",
      "source": [
        "def get_feature(text, freqs):\n",
        "  tokens = text_normalize(text)\n",
        "\n",
        "  X = np.zeros(3)\n",
        "  X[0] = 1\n",
        "\n",
        "  for token in tokens:\n",
        "    X[1] += freqs[(token, 0)]\n",
        "    X[2] += freqs[(token, 1)]\n",
        "\n",
        "  return X"
      ],
      "metadata": {
        "id": "x43xJeJyV8vF"
      },
      "execution_count": null,
      "outputs": []
    },
    {
      "cell_type": "code",
      "source": [
        "# Extract feature\n",
        "X = []\n",
        "y = []\n",
        "\n",
        "freqs = get_freqs(df)\n",
        "for idx, row in df.iterrows():\n",
        "  tweet = row['tweet']\n",
        "  label = row['label']\n",
        "\n",
        "  X_i = get_feature(tweet, freqs)\n",
        "\n",
        "  X.append(X_i)\n",
        "  y.append(label)\n",
        "\n",
        "X = np.array(X)\n",
        "y = np.array(y)"
      ],
      "metadata": {
        "id": "0yjeSpX5XYTF"
      },
      "execution_count": null,
      "outputs": []
    },
    {
      "cell_type": "code",
      "source": [
        "# Divide train, test, and val set\n",
        "val_size = 0.2\n",
        "test_size = 0.125\n",
        "random_state = 2\n",
        "\n",
        "X_train, X_val, y_train, y_val = train_test_split(X, y, test_size=val_size, random_state=random_state, shuffle=True)\n",
        "X_train, X_test, y_train, y_test = train_test_split(X_train, y_train, test_size=test_size, random_state=random_state, shuffle=True)"
      ],
      "metadata": {
        "id": "8jQm5L9eYBR2"
      },
      "execution_count": null,
      "outputs": []
    },
    {
      "cell_type": "code",
      "source": [
        "# Standardize\n",
        "normalizer = StandardScaler()\n",
        "\n",
        "X_train[:, 1:] = normalizer.fit_transform(X_train[: , 1:])\n",
        "X_val[:, 1:] = normalizer.transform(X_val[: , 1:])\n",
        "X_test[:, 1:] = normalizer.transform(X_test[: , 1:])"
      ],
      "metadata": {
        "id": "zhBeioGTYJ-B"
      },
      "execution_count": null,
      "outputs": []
    },
    {
      "cell_type": "code",
      "source": [
        "# Define commonly used function\n",
        "def sigmoid(z):\n",
        "  return 1 / (1 + np.exp(-z))\n",
        "\n",
        "def predict(X, theta):\n",
        "  dot_product = np.dot(X, theta)\n",
        "  y_hat = sigmoid(dot_product)\n",
        "  return y_hat\n",
        "\n",
        "def compute_loss(y_hat, y):\n",
        "  y_hat = np.clip(y_hat, 1e-7, 1 - 1e-7)\n",
        "  return (-y * np.log(y_hat) - (1 - y) * np.log(1 - y_hat)).mean()\n",
        "\n",
        "def compute_gradient(X, y, y_hat):\n",
        "  return np.dot(X.T, (y_hat - y)) / y.size\n",
        "\n",
        "def update_theta(theta, gradient, lr):\n",
        "  return theta - lr * gradient\n",
        "\n",
        "def compute_accuracy(X, y, theta):\n",
        "  y_hat = predict(X, theta).round()\n",
        "  acc = (y_hat == y).mean()\n",
        "\n",
        "  return acc"
      ],
      "metadata": {
        "id": "PIBSHnUFYx4m"
      },
      "execution_count": null,
      "outputs": []
    },
    {
      "cell_type": "code",
      "source": [
        "# Hyper-parameter\n",
        "lr = 0.01\n",
        "epochs = 100\n",
        "batch_size = 128\n",
        "\n",
        "np.random.seed(random_state)\n",
        "theta = np.random.uniform(size=X_train.shape[1])"
      ],
      "metadata": {
        "id": "H2zzAdOqY_il"
      },
      "execution_count": null,
      "outputs": []
    },
    {
      "cell_type": "code",
      "source": [
        "# Train model\n",
        "train_accs = []\n",
        "train_losses = []\n",
        "val_accs = []\n",
        "val_losses = []\n",
        "\n",
        "for epoch in range(epochs):\n",
        "  train_batch_accs = []\n",
        "  train_batch_losses = []\n",
        "  val_batch_accs = []\n",
        "  val_batch_losses = []\n",
        "\n",
        "  for i in range(0, X_train.shape[0], batch_size):\n",
        "    X_i = X_train[i:i+batch_size]\n",
        "    y_i = y_train[i:i+batch_size]\n",
        "\n",
        "    y_hat = predict(X_i, theta)\n",
        "\n",
        "    train_loss = compute_loss(y_hat, y_i)\n",
        "    train_batch_losses.append(train_loss)\n",
        "\n",
        "    gradient = compute_gradient(X_i, y_i, y_hat)\n",
        "    theta = update_theta(theta, gradient, lr)\n",
        "\n",
        "    train_acc = compute_accuracy(X_train, y_train, theta)\n",
        "    train_batch_accs.append(train_acc)\n",
        "\n",
        "    y_val_hat = predict(X_val, theta)\n",
        "    val_loss = compute_loss(y_val_hat, y_val)\n",
        "    val_batch_losses.append(train_loss)\n",
        "\n",
        "    val_acc = compute_accuracy(X_val, y_val, theta)\n",
        "    val_batch_accs.append(val_acc)\n",
        "\n",
        "  train_batch_loss = sum(train_batch_losses)/ len(train_batch_losses)\n",
        "  val_batch_loss = sum(val_batch_losses) / len(val_batch_losses)\n",
        "  train_batch_acc = sum(train_batch_accs) / len(train_batch_accs)\n",
        "  val_batch_acc = sum(val_batch_accs) / len(val_batch_accs)\n",
        "\n",
        "  train_losses.append(train_batch_loss)\n",
        "  val_losses.append(val_batch_loss)\n",
        "  train_accs.append(train_batch_acc)\n",
        "  val_accs.append(val_batch_acc)\n",
        "\n",
        "  print (f'\\ nEPOCH { epoch + 1}:\\ Training loss : { train_batch_loss :.3f}\\tValidation loss : { val_batch_loss :.3f}')"
      ],
      "metadata": {
        "colab": {
          "base_uri": "https://localhost:8080/"
        },
        "id": "Rfq0UQdpZFBF",
        "outputId": "79eaf13f-a755-441b-f099-82f19c5a1310"
      },
      "execution_count": null,
      "outputs": [
        {
          "output_type": "stream",
          "name": "stdout",
          "text": [
            "\\ nEPOCH 1:\\ Training loss : 0.710\tValidation loss : 0.710\n",
            "\\ nEPOCH 2:\\ Training loss : 0.664\tValidation loss : 0.664\n",
            "\\ nEPOCH 3:\\ Training loss : 0.626\tValidation loss : 0.626\n",
            "\\ nEPOCH 4:\\ Training loss : 0.595\tValidation loss : 0.595\n",
            "\\ nEPOCH 5:\\ Training loss : 0.570\tValidation loss : 0.570\n",
            "\\ nEPOCH 6:\\ Training loss : 0.548\tValidation loss : 0.548\n",
            "\\ nEPOCH 7:\\ Training loss : 0.531\tValidation loss : 0.531\n",
            "\\ nEPOCH 8:\\ Training loss : 0.516\tValidation loss : 0.516\n",
            "\\ nEPOCH 9:\\ Training loss : 0.503\tValidation loss : 0.503\n",
            "\\ nEPOCH 10:\\ Training loss : 0.492\tValidation loss : 0.492\n",
            "\\ nEPOCH 11:\\ Training loss : 0.483\tValidation loss : 0.483\n",
            "\\ nEPOCH 12:\\ Training loss : 0.475\tValidation loss : 0.475\n",
            "\\ nEPOCH 13:\\ Training loss : 0.468\tValidation loss : 0.468\n",
            "\\ nEPOCH 14:\\ Training loss : 0.462\tValidation loss : 0.462\n",
            "\\ nEPOCH 15:\\ Training loss : 0.457\tValidation loss : 0.457\n",
            "\\ nEPOCH 16:\\ Training loss : 0.452\tValidation loss : 0.452\n",
            "\\ nEPOCH 17:\\ Training loss : 0.448\tValidation loss : 0.448\n",
            "\\ nEPOCH 18:\\ Training loss : 0.444\tValidation loss : 0.444\n",
            "\\ nEPOCH 19:\\ Training loss : 0.441\tValidation loss : 0.441\n",
            "\\ nEPOCH 20:\\ Training loss : 0.438\tValidation loss : 0.438\n",
            "\\ nEPOCH 21:\\ Training loss : 0.435\tValidation loss : 0.435\n",
            "\\ nEPOCH 22:\\ Training loss : 0.432\tValidation loss : 0.432\n",
            "\\ nEPOCH 23:\\ Training loss : 0.430\tValidation loss : 0.430\n",
            "\\ nEPOCH 24:\\ Training loss : 0.428\tValidation loss : 0.428\n",
            "\\ nEPOCH 25:\\ Training loss : 0.426\tValidation loss : 0.426\n",
            "\\ nEPOCH 26:\\ Training loss : 0.424\tValidation loss : 0.424\n",
            "\\ nEPOCH 27:\\ Training loss : 0.422\tValidation loss : 0.422\n",
            "\\ nEPOCH 28:\\ Training loss : 0.421\tValidation loss : 0.421\n",
            "\\ nEPOCH 29:\\ Training loss : 0.419\tValidation loss : 0.419\n",
            "\\ nEPOCH 30:\\ Training loss : 0.418\tValidation loss : 0.418\n",
            "\\ nEPOCH 31:\\ Training loss : 0.416\tValidation loss : 0.416\n",
            "\\ nEPOCH 32:\\ Training loss : 0.415\tValidation loss : 0.415\n",
            "\\ nEPOCH 33:\\ Training loss : 0.414\tValidation loss : 0.414\n",
            "\\ nEPOCH 34:\\ Training loss : 0.412\tValidation loss : 0.412\n",
            "\\ nEPOCH 35:\\ Training loss : 0.411\tValidation loss : 0.411\n",
            "\\ nEPOCH 36:\\ Training loss : 0.410\tValidation loss : 0.410\n",
            "\\ nEPOCH 37:\\ Training loss : 0.409\tValidation loss : 0.409\n",
            "\\ nEPOCH 38:\\ Training loss : 0.408\tValidation loss : 0.408\n",
            "\\ nEPOCH 39:\\ Training loss : 0.407\tValidation loss : 0.407\n",
            "\\ nEPOCH 40:\\ Training loss : 0.406\tValidation loss : 0.406\n",
            "\\ nEPOCH 41:\\ Training loss : 0.406\tValidation loss : 0.406\n",
            "\\ nEPOCH 42:\\ Training loss : 0.405\tValidation loss : 0.405\n",
            "\\ nEPOCH 43:\\ Training loss : 0.404\tValidation loss : 0.404\n",
            "\\ nEPOCH 44:\\ Training loss : 0.403\tValidation loss : 0.403\n",
            "\\ nEPOCH 45:\\ Training loss : 0.402\tValidation loss : 0.402\n",
            "\\ nEPOCH 46:\\ Training loss : 0.402\tValidation loss : 0.402\n",
            "\\ nEPOCH 47:\\ Training loss : 0.401\tValidation loss : 0.401\n",
            "\\ nEPOCH 48:\\ Training loss : 0.400\tValidation loss : 0.400\n",
            "\\ nEPOCH 49:\\ Training loss : 0.400\tValidation loss : 0.400\n",
            "\\ nEPOCH 50:\\ Training loss : 0.399\tValidation loss : 0.399\n",
            "\\ nEPOCH 51:\\ Training loss : 0.399\tValidation loss : 0.399\n",
            "\\ nEPOCH 52:\\ Training loss : 0.398\tValidation loss : 0.398\n",
            "\\ nEPOCH 53:\\ Training loss : 0.397\tValidation loss : 0.397\n",
            "\\ nEPOCH 54:\\ Training loss : 0.397\tValidation loss : 0.397\n",
            "\\ nEPOCH 55:\\ Training loss : 0.396\tValidation loss : 0.396\n",
            "\\ nEPOCH 56:\\ Training loss : 0.396\tValidation loss : 0.396\n",
            "\\ nEPOCH 57:\\ Training loss : 0.395\tValidation loss : 0.395\n",
            "\\ nEPOCH 58:\\ Training loss : 0.395\tValidation loss : 0.395\n",
            "\\ nEPOCH 59:\\ Training loss : 0.394\tValidation loss : 0.394\n",
            "\\ nEPOCH 60:\\ Training loss : 0.394\tValidation loss : 0.394\n",
            "\\ nEPOCH 61:\\ Training loss : 0.393\tValidation loss : 0.393\n",
            "\\ nEPOCH 62:\\ Training loss : 0.393\tValidation loss : 0.393\n",
            "\\ nEPOCH 63:\\ Training loss : 0.393\tValidation loss : 0.393\n",
            "\\ nEPOCH 64:\\ Training loss : 0.392\tValidation loss : 0.392\n",
            "\\ nEPOCH 65:\\ Training loss : 0.392\tValidation loss : 0.392\n",
            "\\ nEPOCH 66:\\ Training loss : 0.391\tValidation loss : 0.391\n",
            "\\ nEPOCH 67:\\ Training loss : 0.391\tValidation loss : 0.391\n",
            "\\ nEPOCH 68:\\ Training loss : 0.391\tValidation loss : 0.391\n",
            "\\ nEPOCH 69:\\ Training loss : 0.390\tValidation loss : 0.390\n",
            "\\ nEPOCH 70:\\ Training loss : 0.390\tValidation loss : 0.390\n",
            "\\ nEPOCH 71:\\ Training loss : 0.390\tValidation loss : 0.390\n",
            "\\ nEPOCH 72:\\ Training loss : 0.389\tValidation loss : 0.389\n",
            "\\ nEPOCH 73:\\ Training loss : 0.389\tValidation loss : 0.389\n",
            "\\ nEPOCH 74:\\ Training loss : 0.389\tValidation loss : 0.389\n",
            "\\ nEPOCH 75:\\ Training loss : 0.388\tValidation loss : 0.388\n",
            "\\ nEPOCH 76:\\ Training loss : 0.388\tValidation loss : 0.388\n",
            "\\ nEPOCH 77:\\ Training loss : 0.388\tValidation loss : 0.388\n",
            "\\ nEPOCH 78:\\ Training loss : 0.388\tValidation loss : 0.388\n",
            "\\ nEPOCH 79:\\ Training loss : 0.387\tValidation loss : 0.387\n",
            "\\ nEPOCH 80:\\ Training loss : 0.387\tValidation loss : 0.387\n",
            "\\ nEPOCH 81:\\ Training loss : 0.387\tValidation loss : 0.387\n",
            "\\ nEPOCH 82:\\ Training loss : 0.387\tValidation loss : 0.387\n",
            "\\ nEPOCH 83:\\ Training loss : 0.386\tValidation loss : 0.386\n",
            "\\ nEPOCH 84:\\ Training loss : 0.386\tValidation loss : 0.386\n",
            "\\ nEPOCH 85:\\ Training loss : 0.386\tValidation loss : 0.386\n",
            "\\ nEPOCH 86:\\ Training loss : 0.386\tValidation loss : 0.386\n",
            "\\ nEPOCH 87:\\ Training loss : 0.385\tValidation loss : 0.385\n",
            "\\ nEPOCH 88:\\ Training loss : 0.385\tValidation loss : 0.385\n",
            "\\ nEPOCH 89:\\ Training loss : 0.385\tValidation loss : 0.385\n",
            "\\ nEPOCH 90:\\ Training loss : 0.385\tValidation loss : 0.385\n",
            "\\ nEPOCH 91:\\ Training loss : 0.385\tValidation loss : 0.385\n",
            "\\ nEPOCH 92:\\ Training loss : 0.384\tValidation loss : 0.384\n",
            "\\ nEPOCH 93:\\ Training loss : 0.384\tValidation loss : 0.384\n",
            "\\ nEPOCH 94:\\ Training loss : 0.384\tValidation loss : 0.384\n",
            "\\ nEPOCH 95:\\ Training loss : 0.384\tValidation loss : 0.384\n",
            "\\ nEPOCH 96:\\ Training loss : 0.384\tValidation loss : 0.384\n",
            "\\ nEPOCH 97:\\ Training loss : 0.383\tValidation loss : 0.383\n",
            "\\ nEPOCH 98:\\ Training loss : 0.383\tValidation loss : 0.383\n",
            "\\ nEPOCH 99:\\ Training loss : 0.383\tValidation loss : 0.383\n",
            "\\ nEPOCH 100:\\ Training loss : 0.383\tValidation loss : 0.383\n"
          ]
        }
      ]
    },
    {
      "cell_type": "code",
      "source": [
        "# Plot train + val loss and accuracy\n",
        "fig, ax = plt.subplots(2, 2, figsize=(12, 10))\n",
        "\n",
        "ax[0, 0].plot(train_losses)\n",
        "ax[0, 0].set(xlabel='Epoch', ylabel='Loss')\n",
        "ax[0, 0].set_title('Training Loss')\n",
        "\n",
        "ax[0, 1].plot(val_losses, 'orange')\n",
        "ax[0, 1].set(xlabel='Epoch', ylabel='Loss')\n",
        "ax[0, 1].set_title('Validation Loss')\n",
        "\n",
        "ax[1, 0].plot(train_accs)\n",
        "ax[1, 0].set(xlabel='Epoch', ylabel='Accuracy')\n",
        "ax[1, 0].set_title('Training Accuracy')\n",
        "\n",
        "ax[1, 1].plot(val_accs, 'orange')\n",
        "ax[1, 1].set(xlabel='Epoch', ylabel=' Accuracy')\n",
        "ax[1, 1].set_title('Validation Accuracy')\n",
        "\n",
        "plt.show()"
      ],
      "metadata": {
        "colab": {
          "base_uri": "https://localhost:8080/",
          "height": 872
        },
        "id": "UlJ4gf4PZOvZ",
        "outputId": "d3b444e3-6ee1-4057-d26e-1bd810113b74"
      },
      "execution_count": null,
      "outputs": [
        {
          "output_type": "display_data",
          "data": {
            "text/plain": [
              "<Figure size 1200x1000 with 4 Axes>"
            ],
            "image/png": "[encoded data removed]"
          },
          "metadata": {}
        }
      ]
    },
    {
      "cell_type": "code",
      "source": [
        "val_set_acc = compute_accuracy(X_val, y_val, theta)\n",
        "test_set_acc = compute_accuracy(X_test, y_test, theta)\n",
        "print('Evaluation on validation and test set:')\n",
        "print(f'Accuracy : { val_set_acc }')\n",
        "print(f'Accuracy : { test_set_acc }')"
      ],
      "metadata": {
        "colab": {
          "base_uri": "https://localhost:8080/"
        },
        "id": "hIzOGMT6ZSa8",
        "outputId": "b6038871-8136-4318-e237-1501722846e5"
      },
      "execution_count": null,
      "outputs": [
        {
          "output_type": "stream",
          "name": "stdout",
          "text": [
            "Evaluation on validation and test set:\n",
            "Accuracy : 0.8150252525252525\n",
            "Accuracy : 0.8320707070707071\n"
          ]
        }
      ]
    },
    {
      "cell_type": "code",
      "source": [],
      "metadata": {
        "id": "2fwGcQjGZXP7"
      },
      "execution_count": null,
      "outputs": []
    }
  ]
}